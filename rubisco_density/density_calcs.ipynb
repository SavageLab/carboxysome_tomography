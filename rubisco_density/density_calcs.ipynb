{
 "cells": [
  {
   "cell_type": "code",
   "execution_count": 1,
   "id": "fc46a0b4",
   "metadata": {},
   "outputs": [],
   "source": [
    "import numpy as np\n",
    "import pandas as pd\n",
    "import matplotlib.pyplot as plt\n",
    "from scipy.spatial import distance\n",
    "import eulerangles\n",
    "import dynamotable\n",
    "from biopandas.pdb import PandasPdb\n",
    "import itertools"
   ]
  },
  {
   "cell_type": "code",
   "execution_count": 2,
   "id": "9ec9c9bc",
   "metadata": {},
   "outputs": [],
   "source": [
    "# import dynamo TBL files and convert to numpy arrays for positions and Euler angles\n",
    "# 'pixelsize' is the pixel size in Angstroms\n",
    "def importTBL(tblfile, pixelsize):\n",
    "    df0 = dynamotable.read(tblfile)\n",
    "    # grab the columns for the rubisco index, carboxysome index, rubisco positions, and rubisco euler angles\n",
    "    df = df0[[\"tag\",\"reg\",\"x\",\"y\",\"z\", \"tdrot\",\"tilt\", \"narot\"]].copy()\n",
    "    df.loc[:,[\"x\",\"y\",\"z\"]] = df[[\"x\",\"y\",\"z\"]]*pixelsize\n",
    "    df.rename(columns={\"tag\": \"runum\",\n",
    "                       \"reg\": \"CBnum\",\n",
    "                       \"tdrot\": \"eulZ\",\n",
    "                       \"tilt\": \"eulX\",\n",
    "                       \"narot\": \"eulZp\"\n",
    "                      }, inplace=True)\n",
    "    \n",
    "    return df"
   ]
  },
  {
   "cell_type": "code",
   "execution_count": 3,
   "id": "fb368590",
   "metadata": {},
   "outputs": [],
   "source": [
    "df = importTBL(\"rubisco_table.tbl\", 2.14)"
   ]
  },
  {
   "cell_type": "code",
   "execution_count": 4,
   "id": "eecd03d3",
   "metadata": {},
   "outputs": [
    {
     "data": {
      "text/html": [
       "<div>\n",
       "<style scoped>\n",
       "    .dataframe tbody tr th:only-of-type {\n",
       "        vertical-align: middle;\n",
       "    }\n",
       "\n",
       "    .dataframe tbody tr th {\n",
       "        vertical-align: top;\n",
       "    }\n",
       "\n",
       "    .dataframe thead th {\n",
       "        text-align: right;\n",
       "    }\n",
       "</style>\n",
       "<table border=\"1\" class=\"dataframe\">\n",
       "  <thead>\n",
       "    <tr style=\"text-align: right;\">\n",
       "      <th></th>\n",
       "      <th>runum</th>\n",
       "      <th>CBnum</th>\n",
       "      <th>x</th>\n",
       "      <th>y</th>\n",
       "      <th>z</th>\n",
       "      <th>eulZ</th>\n",
       "      <th>eulX</th>\n",
       "      <th>eulZp</th>\n",
       "    </tr>\n",
       "  </thead>\n",
       "  <tbody>\n",
       "    <tr>\n",
       "      <th>0</th>\n",
       "      <td>1</td>\n",
       "      <td>1</td>\n",
       "      <td>1591.4966</td>\n",
       "      <td>3695.566</td>\n",
       "      <td>1299.6220</td>\n",
       "      <td>89.645</td>\n",
       "      <td>66.6170</td>\n",
       "      <td>110.2900</td>\n",
       "    </tr>\n",
       "    <tr>\n",
       "      <th>1</th>\n",
       "      <td>2</td>\n",
       "      <td>1</td>\n",
       "      <td>1677.7172</td>\n",
       "      <td>3460.808</td>\n",
       "      <td>1313.4464</td>\n",
       "      <td>65.749</td>\n",
       "      <td>12.7590</td>\n",
       "      <td>37.0750</td>\n",
       "    </tr>\n",
       "    <tr>\n",
       "      <th>2</th>\n",
       "      <td>3</td>\n",
       "      <td>1</td>\n",
       "      <td>1766.6342</td>\n",
       "      <td>3537.848</td>\n",
       "      <td>1268.7632</td>\n",
       "      <td>-24.012</td>\n",
       "      <td>8.3148</td>\n",
       "      <td>1.0002</td>\n",
       "    </tr>\n",
       "  </tbody>\n",
       "</table>\n",
       "</div>"
      ],
      "text/plain": [
       "   runum  CBnum          x         y          z    eulZ     eulX     eulZp\n",
       "0      1      1  1591.4966  3695.566  1299.6220  89.645  66.6170  110.2900\n",
       "1      2      1  1677.7172  3460.808  1313.4464  65.749  12.7590   37.0750\n",
       "2      3      1  1766.6342  3537.848  1268.7632 -24.012   8.3148    1.0002"
      ]
     },
     "execution_count": 4,
     "metadata": {},
     "output_type": "execute_result"
    }
   ],
   "source": [
    "df.head(3)"
   ]
  },
  {
   "cell_type": "code",
   "execution_count": 5,
   "id": "b6688073",
   "metadata": {},
   "outputs": [],
   "source": [
    "# AlphaFold2 was used to generate an all-atom structure for H. neapolitanus rubisco LS unit in multimer mode.\n",
    "# This was done to include a plausible model of all missing residues, e.g. at termini and unstructured loops, and to\n",
    "# explicitly included hydrogen coordinates.\n",
    "#The model was then aligned to LS asymmetric unit in PDB 1SVD.\n",
    "# load the coordinates for the AF2 structure aligned to 1SVD\n",
    "ruaf2 = PandasPdb().read_pdb(\"ru_af2.pdb\")"
   ]
  },
  {
   "cell_type": "code",
   "execution_count": 6,
   "id": "3f60384d",
   "metadata": {},
   "outputs": [
    {
     "name": "stdout",
     "output_type": "stream",
     "text": [
      "Euler angle match for Z: 40.356000\n"
     ]
    }
   ],
   "source": [
    "# phenix.dock_in_map was used to find the transformation of the 1SVD holoenzyme into the subtomogram template map\n",
    "\n",
    "# find the rotation about the z-axis that transforms from the symmetric frame (ie. 1SVD) to the subtomogram frame\n",
    "# subsequent calculations use Euler angle transformations so we need the Euler angles to match atomic coordinates\n",
    "# to the template.\n",
    "# Unfortunately there is some numerical instability with the Z-axis already aligned so need a manual sweep.\n",
    "# rotation matrix\n",
    "obsrotmat = np.array([[0.7621,-0.6475,-0.0001],[0.6475,0.7621,0],[0.0001,0,1]])\n",
    "\n",
    "# iterate over Z-axis rotations and find the rotation that minimizes the variance between the rotation matrices.\n",
    "numpnts = 10001\n",
    "matsum = np.zeros((numpnts, 2))\n",
    "for inda, ang in enumerate(np.linspace(0,90,numpnts)):\n",
    "    testmat = eulerangles.euler2matrix([ang,0,0], axes='ZXZ', intrinsic=False, right_handed_rotation=True)\n",
    "    matsum[inda,:]= [ang,np.sum((obsrotmat - testmat)**2)]\n",
    "\n",
    "\n",
    "zsubtomo = matsum[np.argmin(matsum[:,1]),0]\n",
    "print(\"Euler angle match for Z: %f\" % zsubtomo)"
   ]
  },
  {
   "cell_type": "code",
   "execution_count": 7,
   "id": "9e38cc69",
   "metadata": {},
   "outputs": [],
   "source": [
    "# compute the rotation matrices to align the orientation to the subtomogram and create the D4 complex\n",
    "# this generates all combinations of euler angles align to the template and make all 8 LS units\n",
    "d4eulers = list(itertools.product(np.array([0,90,180,270]) + zsubtomo,[0,180]))\n",
    "# this calculates the set of rotation matrices corresponding to the above euler angle orientations\n",
    "d4matrices = [eulerangles.euler2matrix([e[0],e[1],0], axes='ZXZ', intrinsic=False, right_handed_rotation=True)\\\n",
    "              for e in d4eulers]"
   ]
  },
  {
   "cell_type": "code",
   "execution_count": 8,
   "id": "9e92e51b",
   "metadata": {},
   "outputs": [],
   "source": [
    "# create a dictionary from \"centralRubiscos\" a list of all rubisco indices that are found in the dense\n",
    "# lattice cores\n",
    "centru_ind = np.genfromtxt(\"centralRubiscos.txt\", dtype=int)\n",
    "# get the carboxysome indices for each of the central rubiscos\n",
    "cbinds = np.array([df[\"CBnum\"][df[\"runum\"] == ci].to_numpy() for ci in centru_ind]).flatten()\n",
    "# create a dictionary that maps the rubisco index to the corresponding carboxysome index\n",
    "centru_dict = dict(zip(centru_ind, cbinds))"
   ]
  },
  {
   "cell_type": "code",
   "execution_count": 9,
   "id": "3d448941",
   "metadata": {},
   "outputs": [],
   "source": [
    "# return a dataframe with the rubiscos within a particular radius of the center rubisco\n",
    "def rubiscos_in_rad(df0, ruind0, centru_dict0, maxrad):\n",
    "    # get the xyz coordinates for the center rubisco (ie. with runum ruind0)\n",
    "    rucent_xyz = df0.loc[df0[\"runum\"] == ruind0][[\"x\", \"y\", \"z\"]].to_numpy()\n",
    "    # get the index of the carboxysome containing that rubisco\n",
    "    cbnum0 = centru_dict0[ruind0]\n",
    "    # grab the xyz coordinates for all rubiscos inside that particular carboxysome\n",
    "    rus_xyz = df0.loc[df0[\"CBnum\"] == cbnum0][[\"x\", \"y\", \"z\"]].to_numpy()\n",
    "    # get a logical array (in the particular carboxysome) of those rubiscos lying within maxrad of the center rubisco\n",
    "    inner_rus = np.linalg.norm(rus_xyz - rucent_xyz, axis=1) <= maxrad\n",
    "    # return a new dataframe that has only those rubiscos within maxrad of the index rubisco in the particular CB\n",
    "    return df0.loc[df0[\"CBnum\"] == cbnum0].iloc[inner_rus,:]"
   ]
  },
  {
   "cell_type": "code",
   "execution_count": 10,
   "id": "11e0aeae",
   "metadata": {},
   "outputs": [],
   "source": [
    "# This creates a grid of the subvolume grid coordinates that lie inside a sphere.\n",
    "# \"maxdist\" is the furthest a rubisco can be from the central rubisco\n",
    "# \"pnts_wide\" is the number of points across the widest point.\n",
    "#The total number will be less than pnt_wide**3 which is what it would be for a cube.\n",
    "def subvolume_coords(maxdist, pnts_wide):\n",
    "    # make vector of coordinates\n",
    "    vect0 = np.linspace(-maxdist, maxdist, int(pnts_wide))\n",
    "    # use meshgrid to array in 3d (all rank-3 tensors)\n",
    "    X0, Y0, Z0 = np.meshgrid(vect0, vect0, vect0)\n",
    "    # boolean for whether inside sphere with radius maxdist\n",
    "    in_sphere = np.sqrt(X0**2+Y0**2+Z0**2) <= maxdist\n",
    "    # return the coordinates of the centers Nx3 that fall within the sphere\n",
    "    return np.column_stack((X0[in_sphere], Y0[in_sphere], Z0[in_sphere]))   "
   ]
  },
  {
   "cell_type": "code",
   "execution_count": 11,
   "id": "1a4d74f9",
   "metadata": {},
   "outputs": [],
   "source": [
    "# define a dictionary for looking up mass (in Daltons) for elements in protein\n",
    "element_mass_dict = {'H': 1.0078, 'C':12.011,'N':14.007, 'O':15.999, 'S':32.065}\n",
    "# use the element lookup to create a vector of masses for the protein\n",
    "masses = np.array([element_mass_dict[element] for element in ruaf2.df['ATOM']['element_symbol']])"
   ]
  },
  {
   "cell_type": "code",
   "execution_count": 12,
   "id": "e443c1a4",
   "metadata": {},
   "outputs": [],
   "source": [
    "#get atomic coordinates from full-atom rubisco model LS\n",
    "rucoords = ruaf2.df['ATOM'][[\"x_coord\", \"y_coord\", \"z_coord\"]].to_numpy()\n",
    "\n",
    "# create relative coordinates of the subvolume (relative to the central rubisco)\n",
    "rel_subvol_coords = subvolume_coords(150, 6)\n",
    "subvol_radius = 80\n",
    "# here's where center rubisco loop will go.\n",
    "\n",
    "# intialize list for median rubisco densities for each central rubisco\n",
    "ru_density = []\n",
    "\n",
    "# iterate over central rubiscos\n",
    "for ruind in centru_dict.keys():\n",
    "    \n",
    "    # generate dataframe for all rubiscos lying within radius of central rubisco\n",
    "    ru_in_rad = rubiscos_in_rad(df, ruind, centru_dict, 300)\n",
    "    # get the coordinates of the central rubisco\n",
    "    center_ru_coords = df.loc[df['runum']==ruind][[\"x\",\"y\",\"z\"]].to_numpy()\n",
    "    # generate coordinates for the centers of each subvolume to calculate\n",
    "    subvol_coords = center_ru_coords + rel_subvol_coords\n",
    "\n",
    "    # initial vector for total mass contained within each subvolume\n",
    "    subvol_mass = np.zeros((len(subvol_coords),1))\n",
    "\n",
    "# iterate over each rubisco symmetry\n",
    "    for subunit in d4matrices:\n",
    "        # get atomic coordinates for a particular LS unit symmetry\n",
    "        d4sub = np.matmul(subunit, rucoords.T).T\n",
    "        # iterate over rubiscos lying within the search radius\n",
    "        for ru in ru_in_rad.index:\n",
    "            # grab the euler angles and translation vector for each rubisco\n",
    "            eulers = ru_in_rad.loc[ru][[\"eulZ\", \"eulX\", \"eulZp\"]].to_numpy()\n",
    "            transl = ru_in_rad.loc[ru][[\"x\", \"y\", \"z\"]].to_numpy()\n",
    "            # compute rotation matrix from eulers\n",
    "            rotmat = eulerangles.euler2matrix(eulers, axes='ZXZ', intrinsic=False, right_handed_rotation=True)\n",
    "            # transform LS coordinates from template symmetry to each rubisco position and orientation\n",
    "            coords = np.matmul(rotmat, d4sub.T).T + transl\n",
    "            # iterate over subvolumes and add mass for atoms lying within subvolume\n",
    "            for sbvind, sbv_coord in enumerate(subvol_coords):\n",
    "                inside_subvol = np.linalg.norm(coords - sbv_coord, axis=1) <= subvol_radius\n",
    "                subvol_mass[sbvind] += masses[inside_subvol].sum()\n",
    "                              \n",
    "    # take the median subvolume mass and divide by the volume to compute the density for each lattice around the central\n",
    "    # rubiscos\n",
    "    ru_density.append(np.median(subvol_mass) / (4/3*np.pi*(subvol_radius/10)**3))\n",
    "            "
   ]
  },
  {
   "cell_type": "code",
   "execution_count": 13,
   "id": "b4f0d8b9",
   "metadata": {},
   "outputs": [
    {
     "name": "stdout",
     "output_type": "stream",
     "text": [
      "Mean density (Da/nm^3): 344.9\n",
      "Median density (Da/nm^3): 346.7\n"
     ]
    }
   ],
   "source": [
    "print(\"Mean density (Da/nm^3): %.1f\" % np.mean(ru_density))\n",
    "print(\"Median density (Da/nm^3): %.1f\" % np.median(ru_density))"
   ]
  },
  {
   "cell_type": "code",
   "execution_count": 14,
   "id": "6fe96ee1",
   "metadata": {},
   "outputs": [],
   "source": [
    "# coarse grain version of the calculation above in which rubiscos are modeled as spheres of uniform density\n",
    "\n",
    "rel_subvol_coords = subvolume_coords(150, 6)\n",
    "subvol_radius = 80\n",
    "# rubisco is approximately spherical with a radius of 60 Ang\n",
    "ru_rad = 60\n",
    "\n",
    "assert subvol_radius > ru_rad, \"Subvolume radius is less than rubisco radius. Code doesn't work for this\"\n",
    "\n",
    "# this is the function for the volume of overlap between two offset spheres\n",
    "# 'd' is distance between centers, 'r' and 'R' are the radii of the two spheres\n",
    "sphere_overlap = lambda d,r,R: (np.pi*(R+r-d)**2*(d**2+2*d*r-3*r**2+2*d*R+6*r*R-3*R**2))/(12*d)\n",
    "\n",
    "# average density of coarse grain spheres\n",
    "sphere_density = 8*masses.sum()/((4/3)*np.pi*ru_rad**3)\n",
    "\n",
    "# intialize list for median rubisco densities for each central rubisco, coarse-grain\n",
    "ru_density_coarse = []\n",
    "\n",
    "# iterate over central rubiscos\n",
    "for ruind in centru_dict.keys():\n",
    "    \n",
    "    # generate dataframe for all rubiscos lying within radius of central rubisco\n",
    "    ru_in_rad = rubiscos_in_rad(df, ruind, centru_dict, 300)\n",
    "    # get the coordinates of the central rubisco\n",
    "    center_ru_coords = df.loc[df['runum']==ruind][[\"x\",\"y\",\"z\"]].to_numpy()\n",
    "    # generate coordinates for the centers of each subvolume to calculate\n",
    "    subvol_coords = center_ru_coords + rel_subvol_coords\n",
    "    # initial vector for total mass contained within each subvolume\n",
    "    subvol_mass = np.zeros((len(subvol_coords),1))\n",
    "\n",
    "    # iterate over rubiscos lying within the search radius\n",
    "    for ru in ru_in_rad.index:\n",
    "        \n",
    "        # get center coordinates of each rubisco\n",
    "        coords = ru_in_rad.loc[ru][[\"x\", \"y\", \"z\"]].to_numpy()\n",
    "\n",
    "        # iterate over subvolumes and add mass for atoms lying within subvolume\n",
    "        for sbvind, sbv_coord in enumerate(subvol_coords):\n",
    "            # compute distance between coarse grain sphere and subvolume center\n",
    "            dist_to_ru = np.linalg.norm(coords - sbv_coord)\n",
    "            # intialize added mass\n",
    "            added_mass = 0\n",
    "            # if rubisco sphere lies entirely within subvolume add mass of complete rubisco\n",
    "            if dist_to_ru <= (subvol_radius - ru_rad):\n",
    "                added_mass = sphere_density*(4/3)*np.pi*ru_rad**3\n",
    "            # if there is partial overlap compute the mass using the sphere overlap equation\n",
    "            elif (dist_to_ru > (subvol_radius - ru_rad)) & (dist_to_ru <= (subvol_radius + ru_rad)):\n",
    "                added_mass = sphere_density*sphere_overlap(dist_to_ru, subvol_radius, ru_rad)\n",
    "            # add mass to subvolume vector\n",
    "            subvol_mass[sbvind] += added_mass\n",
    "            \n",
    "    # take the median subvolume mass and divide by the volume to compute the density for each lattice around the central\n",
    "    # rubiscos\n",
    "    ru_density_coarse.append(np.median(subvol_mass) / (4/3*np.pi*(subvol_radius/10)**3)) "
   ]
  },
  {
   "cell_type": "code",
   "execution_count": 15,
   "id": "95b9e969",
   "metadata": {},
   "outputs": [
    {
     "name": "stdout",
     "output_type": "stream",
     "text": [
      "Median density all-atom: 346.7 Da/nm^3\n",
      "Median density coarse-grain: 345.1 Da/nm^3\n",
      "Density for 'Kepler packing': 428.4 Da/nm^3\n"
     ]
    }
   ],
   "source": [
    "\n",
    "print(\"Median density all-atom: %.1f Da/nm^3\" % np.median(ru_density))\n",
    "print(\"Median density coarse-grain: %.1f Da/nm^3\" % np.median(ru_density_coarse))\n",
    "\n",
    "# calculate density in coarse grain sphere\n",
    "sphere_density_nm = 8*masses.sum()/((4/3)*np.pi*(ru_rad/10)**3)\n",
    "# calculate theoretical 'Kepler packing' in which 74% of volume is taken up by spheres\n",
    "print(\"Density for 'Kepler packing': %.1f Da/nm^3\" % (sphere_density_nm*0.74))"
   ]
  },
  {
   "cell_type": "code",
   "execution_count": 16,
   "id": "0ce23474",
   "metadata": {},
   "outputs": [
    {
     "data": {
      "image/png": "[encoded data removed]",
      "text/plain": [
       "<Figure size 432x288 with 1 Axes>"
      ]
     },
     "metadata": {
      "needs_background": "light"
     },
     "output_type": "display_data"
    }
   ],
   "source": [
    "# Make a figure showing the correspondence between the all-atom and coarse grain models.\n",
    "plt.figure()\n",
    "ru_minden = np.min([ru_density, ru_density_coarse])\n",
    "ru_maxden = np.max([ru_density, ru_density_coarse])\n",
    "plt.plot(np.linspace(ru_minden, ru_maxden), np.linspace(ru_minden, ru_maxden), 'r')\n",
    "plt.plot(ru_density, ru_density_coarse, 'o')\n",
    "plt.xlabel(\"atomwise density (Da/nm^3)\")\n",
    "plt.ylabel(\"coarse-grain density (Da/nm^3)\")\n",
    "plt.show()"
   ]
  },
  {
   "cell_type": "code",
   "execution_count": null,
   "id": "dd556e0f",
   "metadata": {},
   "outputs": [],
   "source": []
  }
 ],
 "metadata": {
  "kernelspec": {
   "display_name": "Python 3",
   "language": "python",
   "name": "python3"
  },
  "language_info": {
   "codemirror_mode": {
    "name": "ipython",
    "version": 3
   },
   "file_extension": ".py",
   "mimetype": "text/x-python",
   "name": "python",
   "nbconvert_exporter": "python",
   "pygments_lexer": "ipython3",
   "version": "3.7.9"
  }
 },
 "nbformat": 4,
 "nbformat_minor": 5
}
