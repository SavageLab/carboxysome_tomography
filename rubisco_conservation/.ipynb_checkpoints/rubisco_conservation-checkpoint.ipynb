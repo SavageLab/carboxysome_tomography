{
 "cells": [
  {
   "cell_type": "code",
   "execution_count": 1,
   "id": "ee635d7a",
   "metadata": {},
   "outputs": [],
   "source": [
    "import pandas as pd\n",
    "import numpy as np\n",
    "from Bio import SeqIO, AlignIO, Seq\n",
    "from Bio.SeqRecord import SeqRecord\n",
    "import matplotlib.pyplot as plt\n",
    "from biopandas.pdb import PandasPdb"
   ]
  },
  {
   "cell_type": "code",
   "execution_count": 2,
   "id": "933ca597",
   "metadata": {},
   "outputs": [],
   "source": [
    "# read in candidate alpha-carboxysome operon genes\n",
    "df = pd.read_csv('extracted_genes.csv')"
   ]
  },
  {
   "cell_type": "code",
   "execution_count": 3,
   "id": "7bec86d5",
   "metadata": {},
   "outputs": [
    {
     "data": {
      "text/html": [
       "<div>\n",
       "<style scoped>\n",
       "    .dataframe tbody tr th:only-of-type {\n",
       "        vertical-align: middle;\n",
       "    }\n",
       "\n",
       "    .dataframe tbody tr th {\n",
       "        vertical-align: top;\n",
       "    }\n",
       "\n",
       "    .dataframe thead th {\n",
       "        text-align: right;\n",
       "    }\n",
       "</style>\n",
       "<table border=\"1\" class=\"dataframe\">\n",
       "  <thead>\n",
       "    <tr style=\"text-align: right;\">\n",
       "      <th></th>\n",
       "      <th>Unnamed: 0</th>\n",
       "      <th>aa_seq</th>\n",
       "      <th>gene_id</th>\n",
       "      <th>nt_seq</th>\n",
       "      <th>pfam_ids</th>\n",
       "      <th>pfam_names</th>\n",
       "      <th>record_accession</th>\n",
       "      <th>record_description</th>\n",
       "      <th>unique_record_id</th>\n",
       "    </tr>\n",
       "  </thead>\n",
       "  <tbody>\n",
       "    <tr>\n",
       "      <th>0</th>\n",
       "      <td>0</td>\n",
       "      <td>MDQSNRYADLTLSEEKLIADGNHLLVAYRLKPAAGYGFLEVAAHVA...</td>\n",
       "      <td>2678247951</td>\n",
       "      <td>ATGGATCAGTCGAATCGTTACGCTGACTTAACTCTATCAGAAGAGA...</td>\n",
       "      <td>pfam02788, pfam00016</td>\n",
       "      <td>RuBisCO_large_N, RuBisCO_large</td>\n",
       "      <td>2675903511</td>\n",
       "      <td>Ga0127234_101 Thiomicrospira sp. XS5 : Ga01272...</td>\n",
       "      <td>2675903511_Ga0127234_101</td>\n",
       "    </tr>\n",
       "    <tr>\n",
       "      <th>1</th>\n",
       "      <td>1</td>\n",
       "      <td>MAKTYNAGVKEYRETYWMPDYEPKDSDFLACFKVIPQDGVPREEVA...</td>\n",
       "      <td>2678247954</td>\n",
       "      <td>ATGGCTAAGACTTATAACGCCGGTGTAAAAGAATACCGCGAAACGT...</td>\n",
       "      <td>pfam02788, pfam00016</td>\n",
       "      <td>RuBisCO_large_N, RuBisCO_large</td>\n",
       "      <td>2675903511</td>\n",
       "      <td>Ga0127234_101 Thiomicrospira sp. XS5 : Ga01272...</td>\n",
       "      <td>2675903511_Ga0127234_101</td>\n",
       "    </tr>\n",
       "    <tr>\n",
       "      <th>2</th>\n",
       "      <td>2</td>\n",
       "      <td>MSTVQDYPSRLSDPASRKAETFSYLPKMSDDQIRSQVEYIISKGWN...</td>\n",
       "      <td>2678247955</td>\n",
       "      <td>ATGAGTACAGTACAAGATTATCCTTCACGTCTTTCTGATCCGGCAT...</td>\n",
       "      <td>pfam00101</td>\n",
       "      <td>RuBisCO_small</td>\n",
       "      <td>2675903511</td>\n",
       "      <td>Ga0127234_101 Thiomicrospira sp. XS5 : Ga01272...</td>\n",
       "      <td>2675903511_Ga0127234_101</td>\n",
       "    </tr>\n",
       "  </tbody>\n",
       "</table>\n",
       "</div>"
      ],
      "text/plain": [
       "   Unnamed: 0                                             aa_seq     gene_id  \\\n",
       "0           0  MDQSNRYADLTLSEEKLIADGNHLLVAYRLKPAAGYGFLEVAAHVA...  2678247951   \n",
       "1           1  MAKTYNAGVKEYRETYWMPDYEPKDSDFLACFKVIPQDGVPREEVA...  2678247954   \n",
       "2           2  MSTVQDYPSRLSDPASRKAETFSYLPKMSDDQIRSQVEYIISKGWN...  2678247955   \n",
       "\n",
       "                                              nt_seq              pfam_ids  \\\n",
       "0  ATGGATCAGTCGAATCGTTACGCTGACTTAACTCTATCAGAAGAGA...  pfam02788, pfam00016   \n",
       "1  ATGGCTAAGACTTATAACGCCGGTGTAAAAGAATACCGCGAAACGT...  pfam02788, pfam00016   \n",
       "2  ATGAGTACAGTACAAGATTATCCTTCACGTCTTTCTGATCCGGCAT...             pfam00101   \n",
       "\n",
       "                       pfam_names  record_accession  \\\n",
       "0  RuBisCO_large_N, RuBisCO_large        2675903511   \n",
       "1  RuBisCO_large_N, RuBisCO_large        2675903511   \n",
       "2                   RuBisCO_small        2675903511   \n",
       "\n",
       "                                  record_description          unique_record_id  \n",
       "0  Ga0127234_101 Thiomicrospira sp. XS5 : Ga01272...  2675903511_Ga0127234_101  \n",
       "1  Ga0127234_101 Thiomicrospira sp. XS5 : Ga01272...  2675903511_Ga0127234_101  \n",
       "2  Ga0127234_101 Thiomicrospira sp. XS5 : Ga01272...  2675903511_Ga0127234_101  "
      ]
     },
     "execution_count": 3,
     "metadata": {},
     "output_type": "execute_result"
    }
   ],
   "source": [
    "df.head(3)"
   ]
  },
  {
   "cell_type": "code",
   "execution_count": 5,
   "id": "f7ebc0ca",
   "metadata": {},
   "outputs": [],
   "source": [
    "# find rubisco small and large subunits within 12 ORFs of csos2\n",
    "cbbl0 = []\n",
    "cbbs0 = []\n",
    "# iterate over all unique records accessions in gene list\n",
    "for ra in df.record_accession.unique():\n",
    "    # get dataframe for all entries matching a particular accession\n",
    "    ra_entries = df.loc[df.record_accession == ra]\n",
    "    \n",
    "    # check if CsoS2 pfam is among the genes\n",
    "    if 'pfam12288' in [i for i in ra_entries.pfam_ids]:\n",
    "        # get the gene ids for all csos2s in record accession\n",
    "        s2geneids = ra_entries.loc[ra_entries.pfam_ids=='pfam12288'].gene_id\n",
    "\n",
    "        # iterate over s2ids\n",
    "        for s2id in s2geneids:\n",
    "            # grab entries within 12 of csos2\n",
    "            nears2 = ra_entries.loc[(ra_entries.gene_id >= s2id - 12) & (ra_entries.gene_id <= s2id + 12)]\n",
    "            \n",
    "            # append entries containing pfam for large and small rubisco subunits\n",
    "            cbbl0.append(nears2.index[['pfam00016' in i for i in nears2.pfam_ids]].to_list())\n",
    "            cbbs0.append(nears2.index[['pfam00101' in i for i in nears2.pfam_ids]].to_list())\n",
    "\n",
    "# flatten nested lists\n",
    "cbbl = [i for j in cbbl0 for i in j]\n",
    "cbbs = [i for j in cbbs0 for i in j]"
   ]
  },
  {
   "cell_type": "code",
   "execution_count": 8,
   "id": "c107e3dd",
   "metadata": {},
   "outputs": [],
   "source": [
    "# write amino acid sequences to fasta files using the df indices.\n",
    "def write_fasta(indexlist, subunittype, fastaname):\n",
    "    seqs = []\n",
    "        \n",
    "    for i,j in zip(zip(df.iloc[indexlist].unique_record_id,df.iloc[indexlist].gene_id), df.iloc[indexlist].aa_seq):\n",
    "        if '*' in j:\n",
    "            seq_aa = Seq.Seq(j[:j.find('*')])\n",
    "        else:\n",
    "            seq_aa = Seq.Seq(j)\n",
    "        seqs.append(SeqRecord(seq_aa, i[0], description=\"%s_%i\" % (subunittype, i[1])))\n",
    "    with open(fastaname, \"w\") as f: \n",
    "        SeqIO.write(seqs, f, \"fasta\")\n",
    "    \n",
    "    return None"
   ]
  },
  {
   "cell_type": "code",
   "execution_count": 9,
   "id": "86522a4c",
   "metadata": {},
   "outputs": [],
   "source": [
    "write_fasta(cbbl, \"CbbL\", \"2022_05_19_cbbL.fa\")\n",
    "write_fasta(cbbs, \"CbbS\", \"2022_05_19_cbbS.fa\")"
   ]
  },
  {
   "cell_type": "code",
   "execution_count": 10,
   "id": "b01a23b9",
   "metadata": {},
   "outputs": [
    {
     "name": "stdout",
     "output_type": "stream",
     "text": [
      "usearch v11.0.667_i86linux32, 4.0Gb RAM (8.0Gb total), 12 cores\n",
      "(C) Copyright 2013-18 Robert C. Edgar, all rights reserved.\n",
      "https://drive5.com/usearch\n",
      "\n",
      "License: personal use only\n",
      "\n",
      "00:00 41Mb    100.0% Reading 2022_05_19_cbbL.fa\n",
      "00:00 7.2Mb  CPU has 12 cores, defaulting to 10 threads\n",
      "00:00 92Mb    100.0% DF\n",
      "00:00 92Mb   254 seqs, 118 uniques, 83 singletons (70.3%)\n",
      "00:00 92Mb   Min size 1, median 1, max 28, avg 2.15\n",
      "00:00 95Mb    100.0% DB\n",
      "00:00 146Mb   100.0% 48 clusters, max size 70, avg 5.3\n",
      "                                                      \n",
      "      Seqs  118\n",
      "  Clusters  48\n",
      "  Max size  70\n",
      "  Avg size  5.3\n",
      "  Min size  1\n",
      "Singletons  20, 16.9% of seqs, 41.7% of clusters\n",
      "   Max mem  146Mb\n",
      "      Time  1.00s\n",
      "Throughput  118.0 seqs/sec.\n",
      "\n"
     ]
    }
   ],
   "source": [
    "# cluster at <95% identity in the large subunit (the more conserved) to unbias the dataset\n",
    "! usearch -cluster_fast \"2022_05_19_cbbL.fa\" -id 0.95 -uc \"2022_05_19_cbbL_uc95.uc\""
   ]
  },
  {
   "cell_type": "code",
   "execution_count": 11,
   "id": "57c3401e",
   "metadata": {},
   "outputs": [],
   "source": [
    "# helper function to parse uclust files and write as fasta\n",
    "# written by Yinon Bar-On from Ron Milo's lab at the Weizmann Institute\n",
    "def parse_uclust(infile,fasta,outfasta,outfile):\n",
    "    header = ['Type','Cluster','Size','%Id','Strand','Qlo','Tlo','Alignment','Query','Target']\n",
    "    uclust = pd.read_csv(infile, sep='\\t', names=header, index_col=False)\n",
    "    uclust.loc[uclust['Target'] == '*','Target'] = uclust.loc[uclust['Target'] == '*','Query']\n",
    "    uclust = uclust[uclust['Type'] !='S']\n",
    "    centroids = uclust[uclust['Type']=='C']\n",
    "    c_list = centroids.Target.values\n",
    "    c_list = [c.split(\" \")[0] for c in c_list]\n",
    "\n",
    "    sequences = []\n",
    "    for record in SeqIO.parse(fasta, \"fasta\"):\n",
    "        if record.id in c_list:\n",
    "            sequences.append(record)\n",
    "\n",
    "    seq2 = []\n",
    "    seq3 = []\n",
    "    for i,record in enumerate(sequences):\n",
    "        if not record.id in seq2:\n",
    "            seq2.append(record.id)\n",
    "            seq3.append(record)\n",
    "    with open(outfasta, \"w\") as output_handle:\n",
    "        SeqIO.write(seq3, output_handle, \"fasta\")"
   ]
  },
  {
   "cell_type": "code",
   "execution_count": 12,
   "id": "ec02e892",
   "metadata": {},
   "outputs": [],
   "source": [
    "#Use Yinon's ucluster parsing function to write out new fasta\n",
    "parse_uclust(infile=\"2022_05_19_cbbL_uc95.uc\",\n",
    "             fasta=\"2022_05_19_cbbL.fa\",\n",
    "             outfasta=\"2022_05_19_cbbL_uc95.fa\",\n",
    "             outfile=\"2022_05_19_cbbL_uc95.csv\"\n",
    "            )"
   ]
  },
  {
   "cell_type": "code",
   "execution_count": 14,
   "id": "25de6089",
   "metadata": {},
   "outputs": [],
   "source": [
    "# read in clustered large subunits and all small subunits written above\n",
    "clust_cbbls = list(SeqIO.parse(\"2022_05_19_cbbL_uc95.fa\", \"fasta\"))\n",
    "cbbss = list(SeqIO.parse(\"2022_05_19_cbbS.fa\", \"fasta\"))"
   ]
  },
  {
   "cell_type": "code",
   "execution_count": 15,
   "id": "f9fcb626",
   "metadata": {},
   "outputs": [],
   "source": [
    "# pair up the small and large subunits from the same locus if they are adjacent\n",
    "cbbl_paired = []\n",
    "cbbs_paired = []\n",
    "lgeneids = []\n",
    "for cl in clust_cbbls:\n",
    "    lgeneid = cl.description[cl.description.rfind('_')+1:]\n",
    "\n",
    "    for cs in cbbss:\n",
    "        if cl.id in cs.id:\n",
    "            sgeneid = cs.description[cs.description.rfind('_')+1:]\n",
    "            if np.abs(int(sgeneid) - int(lgeneid)) == 1:\n",
    "                if lgeneid not in lgeneids:\n",
    "                    cbbl_paired.append(cl)\n",
    "                    lgeneids.append(lgeneid)\n",
    "                    cbbs_paired.append(cs)"
   ]
  },
  {
   "cell_type": "code",
   "execution_count": 16,
   "id": "c1539e3b",
   "metadata": {},
   "outputs": [],
   "source": [
    "# enter the H. neapolitanus sequences and prepend them to the set of paired CbbLS\n",
    "HnCbbS = SeqRecord(Seq.Seq(\"MAEMQDYKQSLKYETFSYLPPMNAERIRAQIKYAIAQGWSPGIEHVEVKNSMNQYWYMWKLPFFGEQNVDNVLAEIEACRSAYPTHQVKLVAYDNYAQSLGLAFVVYRGN\"),\n",
    "                  id=\"HnCbbS\", name=\"HnCbbS\", description=\"rubisco small subunit\")\n",
    "HnCbbL = SeqRecord(Seq.Seq(\"MAVKKYSAGVKEYRQTYWMPEYTPLDSDILACFKITPQPGVDREEAAAAVAAESSTGTWTTVWTDLLTDMDYYKGRAYRIEDVPGDDAAFYAFIAYPIDLFEEGSVVNVFTSLVGNVFGFKAVRGLRLEDVRFPLAYVKTCGGPPHGIQVERDKMNKYGRPLLGCTIKPKLGLSAKNYGRAVYECLRGGLDFTKDDENINSQPFMRWRDRFLFVQDATETAEAQTGERKGHYLNVTAPTPEEMYKRAEFAKEIGAPIIMHDYITGGFTANTGLAKWCQDNGVLLHIHRAMHAVIDRNPNHGIHFRVLTKILRLSGGDHLHTGTVVGKLEGDRASTLGWIDLLRESFIPEDRSRGIFFDQDWGSMPGVFAVASGGIHVWHMPALVNIFGDDSVLQFGGGTLGHPWGNAAGAAANRVALEACVEARNQGRDIEKEGKEILTAAAQHSPELKIAMETWKEIKFEFDTVDKLDTQNR\"),\n",
    "                  id=\"HnCbbL\", name=\"HnCbbL\", description=\"rubisco large subunit\")\n",
    "\n",
    "cbbs_paired.insert(0, HnCbbS)\n",
    "cbbl_paired.insert(0, HnCbbL)"
   ]
  },
  {
   "cell_type": "code",
   "execution_count": 17,
   "id": "8f7ae96b",
   "metadata": {},
   "outputs": [],
   "source": [
    "# write paired fasta files\n",
    "with open(\"2022_05_20_CbbS_paired.fa\", \"w\") as f: \n",
    "    SeqIO.write(cbbs_paired, f, \"fasta\")\n",
    "\n",
    "with open(\"2022_05_20_CbbL_paired.fa\", \"w\") as f: \n",
    "    SeqIO.write(cbbl_paired, f, \"fasta\")"
   ]
  },
  {
   "cell_type": "code",
   "execution_count": 18,
   "id": "10870cb4",
   "metadata": {},
   "outputs": [],
   "source": [
    "# use mafft to generate sequence alignment\n",
    "! mafft --auto --quiet \"2022_05_20_CbbL_paired.fa\"  > \"2022_05_20_CbbL_paired_aligned.fa\"\n",
    "! mafft --auto --quiet \"2022_05_20_CbbS_paired.fa\"  > \"2022_05_20_CbbS_paired_aligned.fa\""
   ]
  },
  {
   "cell_type": "code",
   "execution_count": 19,
   "id": "1ea81504",
   "metadata": {},
   "outputs": [],
   "source": [
    "# generate weblogo datasets to characterize diversity at each alignment position\n",
    "! weblogo -f \"2022_05_20_CbbL_paired_aligned.fa\" -o \"cbbl_weblogo.dat\" -F logodata\n",
    "! weblogo -f \"2022_05_20_CbbS_paired_aligned.fa\" -o \"cbbs_weblogo.dat\" -F logodata"
   ]
  },
  {
   "cell_type": "code",
   "execution_count": 20,
   "id": "f9ecdf7e",
   "metadata": {},
   "outputs": [],
   "source": [
    "# read weblogo datafiles into pandas dataframes\n",
    "wll = pd.read_csv(\"cbbl_weblogo.dat\", header=7, delimiter=\"\\t\", index_col=0, skipfooter=1, engine=\"python\")\n",
    "wls = pd.read_csv(\"cbbs_weblogo.dat\", header=7, delimiter=\"\\t\", index_col=0, skipfooter=1, engine=\"python\")"
   ]
  },
  {
   "cell_type": "code",
   "execution_count": 21,
   "id": "8c6d0cde",
   "metadata": {},
   "outputs": [],
   "source": [
    "# calculates the positional entropy (with no residue bias priors)\n",
    "# ignores zeros.\n",
    "def entropy(matrix0):\n",
    "    matrix = np.where(matrix0 != 0, matrix0, np.nan)/matrix0.max()\n",
    "    ent = -np.nansum(matrix*np.log2(matrix), axis=1)\n",
    "    return ent"
   ]
  },
  {
   "cell_type": "code",
   "execution_count": 23,
   "id": "886f7cdb",
   "metadata": {},
   "outputs": [],
   "source": [
    "# calculate the entropy using the occurrences of all amino acids\n",
    "entsmall = entropy(wls.iloc[:,0:20].to_numpy())\n",
    "entlarge = entropy(wll.iloc[:,0:20].to_numpy())"
   ]
  },
  {
   "cell_type": "code",
   "execution_count": 24,
   "id": "0564f957",
   "metadata": {},
   "outputs": [
    {
     "data": {
      "image/png": "[encoded data removed]",
      "text/plain": [
       "<Figure size 432x288 with 1 Axes>"
      ]
     },
     "metadata": {
      "needs_background": "light"
     },
     "output_type": "display_data"
    }
   ],
   "source": [
    "plt.plot(entlarge)\n",
    "plt.plot(entsmall)\n",
    "plt.xlabel(\"alignment position\")\n",
    "plt.ylabel(\"entropy\")\n",
    "plt.show()"
   ]
  },
  {
   "cell_type": "code",
   "execution_count": 25,
   "id": "66871921",
   "metadata": {},
   "outputs": [],
   "source": [
    "# use biopandas to import the Hn rubisco\n",
    "ruSVD = PandasPdb().fetch_pdb('1svd')"
   ]
  },
  {
   "cell_type": "code",
   "execution_count": 26,
   "id": "e8680c61",
   "metadata": {},
   "outputs": [],
   "source": [
    "# get the Hn alignment from the fastas\n",
    "def get_Hn_align(alignfile):\n",
    "    alignments = AlignIO.read(alignfile, \"fasta\")\n",
    "    for alignment in alignments:\n",
    "        if \"HnCbb\" in alignment.id:\n",
    "            return alignment\n",
    "    print(\"Didn't find the expected Halo sequences.\")\n",
    "    return None"
   ]
  },
  {
   "cell_type": "code",
   "execution_count": 27,
   "id": "6ae6807a",
   "metadata": {},
   "outputs": [],
   "source": [
    "# convert the alignment index to the sequence index (ie. ignore the gaps)\n",
    "def align_indices(align_seq):\n",
    "    align_inds = []\n",
    "    for ind, aa in enumerate(align_seq):\n",
    "        if aa != '-':\n",
    "            align_inds.append(ind + 1)\n",
    "    return align_inds"
   ]
  },
  {
   "cell_type": "code",
   "execution_count": 28,
   "id": "16c82ffa",
   "metadata": {},
   "outputs": [],
   "source": [
    "# get the entropy at the aa positions in HnCbbL and HnCbbS\n",
    "cbbl_inds = align_indices(get_Hn_align(\"2022_05_20_CbbL_paired_aligned.fa\").seq)\n",
    "cbbs_inds = align_indices(get_Hn_align(\"2022_05_20_CbbS_paired_aligned.fa\").seq)\n",
    "\n",
    "cbbl_ent = entropy(wll.loc[cbbl_inds].iloc[:,0:20].to_numpy())\n",
    "cbbs_ent = entropy(wls.loc[cbbs_inds].iloc[:,0:20].to_numpy())"
   ]
  },
  {
   "cell_type": "code",
   "execution_count": 29,
   "id": "4eb4d65f",
   "metadata": {},
   "outputs": [],
   "source": [
    "# takes a chain identifier, the entropy calculated above and a biopandas pdb object and hijacks the b-factor with entropy\n",
    "def rewrite_bfactors(chain_id, ru_ent, pdbstruct):\n",
    "    pdbinds0 = pdbstruct.df['ATOM'].loc[pdbstruct.df['ATOM']['chain_id'] == chain_id]['residue_number'].unique()\n",
    "    \n",
    "    pdbinds = [pdbi for pdbi in pdbinds0 if pdbi <= len(ru_ent)]\n",
    "    \n",
    "    for pdbind in pdbinds:\n",
    "        pdbstruct.df['ATOM'].loc[(pdbstruct.df['ATOM']['chain_id'] == chain_id)\n",
    "                                   & (pdbstruct.df['ATOM']['residue_number'] == pdbind),'b_factor'] = ru_ent[pdbind - 1]\n",
    "    return None"
   ]
  },
  {
   "cell_type": "code",
   "execution_count": 30,
   "id": "cafdc1c1",
   "metadata": {},
   "outputs": [],
   "source": [
    "# rewrite the b-factors for the large (chain A) and small (chain M) subunits in PDB 1SVD\n",
    "rewrite_bfactors('A', cbbl_ent, ruSVD)\n",
    "rewrite_bfactors('M', cbbs_ent, ruSVD)"
   ]
  },
  {
   "cell_type": "code",
   "execution_count": 31,
   "id": "569a4860",
   "metadata": {},
   "outputs": [],
   "source": [
    "# write new pdb to file\n",
    "ruSVD.to_pdb(path='entropy_rubisco.pdb', \n",
    "            records=None, \n",
    "            gz=False, \n",
    "            append_newline=True)"
   ]
  },
  {
   "cell_type": "code",
   "execution_count": 32,
   "id": "cab8af17",
   "metadata": {},
   "outputs": [],
   "source": [
    "# same as re_write_bfactors but can take a full holoenzyme model\n",
    "def write_full_bfactors(pdbstruct, small_ent, large_ent):\n",
    "\n",
    "    for cid in pdbstruct.df['ATOM']['chain_id'].unique():\n",
    "        resnum = pdbstruct.df['ATOM'].loc[pdbstruct.df['ATOM']['chain_id']==cid]['residue_number'].max()\n",
    "        if (resnum > 100) & (resnum <= 115):\n",
    "            rewrite_bfactors(cid, small_ent, pdbstruct)\n",
    "        elif (resnum > 480) & (resnum <= 505):\n",
    "            rewrite_bfactors(cid, large_ent, pdbstruct)\n",
    "        else:\n",
    "            print(\"Unknown chain %s\" % cid)\n",
    "            \n",
    "    return None     "
   ]
  },
  {
   "cell_type": "code",
   "execution_count": 33,
   "id": "fb1875e1",
   "metadata": {},
   "outputs": [],
   "source": [
    "# Load atomic models for two rubiscos at a fibril interface and write entropy to b-factors for both\n",
    "# use biopandas to import the Hn rubisco\n",
    "rumod1 = PandasPdb().read_pdb('pdbModel.pdb')\n",
    "# use biopandas to import the Hn rubisco\n",
    "rumod2 = PandasPdb().read_pdb('pdbModel2.pdb')\n",
    "write_full_bfactors(rumod1, cbbs_ent, cbbl_ent)\n",
    "write_full_bfactors(rumod2, cbbs_ent, cbbl_ent)"
   ]
  },
  {
   "cell_type": "code",
   "execution_count": 34,
   "id": "52f7da22",
   "metadata": {},
   "outputs": [],
   "source": [
    "# write modified PDBs with entropy 'b-factors'\n",
    "rumod1.to_pdb(path='rumod1.pdb', \n",
    "            records=None, \n",
    "            gz=False, \n",
    "            append_newline=True)\n",
    "\n",
    "rumod2.to_pdb(path='rumod2.pdb', \n",
    "            records=None, \n",
    "            gz=False, \n",
    "            append_newline=True)"
   ]
  },
  {
   "cell_type": "code",
   "execution_count": 277,
   "id": "e93e6470",
   "metadata": {},
   "outputs": [],
   "source": [
    "# generate weblogo images for helices near rubisco interaction interface\n",
    "# ! weblogo -f \"2022_05_20_CbbS_paired_aligned.fa\" -o \"cbbs_21_27.eps\" -l 43 -u 50 -F eps -c chemistry\n",
    "# ! weblogo -f \"2022_05_20_CbbS_paired_aligned.fa\" -o \"cbbs_70_82.eps\" -l 92 -u 104 -F eps -c chemistry\n",
    "# ! weblogo -f \"2022_05_20_CbbL_paired_aligned.fa\" -o \"cbbl_434_444.eps\" -l 434 -u 444 -F eps -c chemistry\n",
    "# ! weblogo -f \"2022_05_20_CbbL_paired_aligned.fa\" -o \"cbbl_446_456.eps\" -l 446 -u 456 -F eps -c chemistry"
   ]
  }
 ],
 "metadata": {
  "kernelspec": {
   "display_name": "Python 3",
   "language": "python",
   "name": "python3"
  },
  "language_info": {
   "codemirror_mode": {
    "name": "ipython",
    "version": 3
   },
   "file_extension": ".py",
   "mimetype": "text/x-python",
   "name": "python",
   "nbconvert_exporter": "python",
   "pygments_lexer": "ipython3",
   "version": "3.7.9"
  }
 },
 "nbformat": 4,
 "nbformat_minor": 5
}
